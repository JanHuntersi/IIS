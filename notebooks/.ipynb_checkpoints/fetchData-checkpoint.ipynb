{
 "cells": [
  {
   "cell_type": "code",
   "execution_count": 1,
   "id": "ad1c3ea5-bb45-4caa-9aaa-2ddcafd62c86",
   "metadata": {},
   "outputs": [
    {
     "name": "stdout",
     "output_type": "stream",
     "text": [
      "C:\\Users\\Jan\\AppData\\Local\\pypoetry\\Cache\\virtualenvs\\vaje-QUn4yeEi-py3.10\\Scripts\\python.exe\n"
     ]
    }
   ],
   "source": [
    "Si b\n"
   ]
  },
  {
   "cell_type": "code",
   "execution_count": null,
   "id": "a8321574-961d-49e2-b031-ed3c8b7200f8",
   "metadata": {},
   "outputs": [],
   "source": [
    "\n"
   ]
  }
 ],
 "metadata": {
  "kernelspec": {
   "display_name": "Python 3 (ipykernel)",
   "language": "python",
   "name": "python3"
  },
  "language_info": {
   "codemirror_mode": {
    "name": "ipython",
    "version": 3
   },
   "file_extension": ".py",
   "mimetype": "text/x-python",
   "name": "python",
   "nbconvert_exporter": "python",
   "pygments_lexer": "ipython3",
   "version": "3.10.2"
  }
 },
 "nbformat": 4,
 "nbformat_minor": 5
}
