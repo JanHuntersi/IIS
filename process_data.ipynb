{
 "cells": [
  {
   "cell_type": "code",
   "execution_count": 6,
   "id": "6e8e9be6-66a4-4cde-9e79-e51ce95b1aec",
   "metadata": {},
   "outputs": [],
   "source": [
    "import pandas as pd\n",
    "import os"
   ]
  },
  {
   "cell_type": "code",
   "execution_count": 7,
   "id": "c7750947-0075-4769-bf67-1e7e139def2b",
   "metadata": {},
   "outputs": [],
   "source": [
    "RAW_DATA_DIR = r'C:\\Users\\Jan\\Desktop\\FERI\\IPT\\2-SEMESTER\\IIS\\vaje\\data\\raw\\'\n"
   ]
  },
  {
   "cell_type": "code",
   "execution_count": 29,
   "id": "b570dd8f-d276-48c4-b390-d834937bdea7",
   "metadata": {},
   "outputs": [],
   "source": [
    "def process_file(file_path):\n",
    "    data = pd.read_csv(file_path)\n",
    "    # filtriramo samo \"GOSPOSVETSKA C. - TURNERJEVA UL.\"\n",
    "    filtered_data = data[data['name']== 'GOSPOSVETSKA C. - TURNERJEVA UL.'] \n",
    "    print(filtered_data)\n",
    "    \n",
    "    "
   ]
  },
  {
   "cell_type": "code",
   "execution_count": 30,
   "id": "f45104f7-ceb1-4eae-90d9-4b2536290c6b",
   "metadata": {},
   "outputs": [
    {
     "name": "stdout",
     "output_type": "stream",
     "text": [
      "   number contract_name                              name  \\\n",
      "6       1       maribor  GOSPOSVETSKA C. - TURNERJEVA UL.   \n",
      "\n",
      "                 address                             position  banking  bonus  \\\n",
      "6  Gosposvetska cesta 69  {'lat': 46.562695, 'lng': 15.62935}    False  False   \n",
      "\n",
      "   bike_stands  available_bike_stands  available_bikes status    last_update  \n",
      "6           22                      6               16   OPEN  1710104649000  \n"
     ]
    }
   ],
   "source": [
    "#testing purposes\n",
    "file_path = r'C:\\Users\\Jan\\Desktop\\FERI\\IPT\\2-SEMESTER\\IIS\\vaje\\data\\raw\\mbajk_20240310_221144.csv'\n",
    "process_file(file_path)"
   ]
  },
  {
   "cell_type": "code",
   "execution_count": 18,
   "id": "df5321f8-d386-4025-bd86-b13980f90713",
   "metadata": {},
   "outputs": [
    {
     "name": "stdout",
     "output_type": "stream",
     "text": [
      "Going to processs file: mbajk_20240310_220810.csv\n",
      "processing C:\\Users\\Jan\\Desktop\\FERI\\IPT\\2-SEMESTER\\IIS\\vaje\\data\\raw\\mbajk_20240310_220810.csv\n",
      "Going to processs file: mbajk_20240310_221144.csv\n",
      "processing C:\\Users\\Jan\\Desktop\\FERI\\IPT\\2-SEMESTER\\IIS\\vaje\\data\\raw\\mbajk_20240310_221144.csv\n",
      "Going to processs file: og_dataset.csv\n",
      "processing C:\\Users\\Jan\\Desktop\\FERI\\IPT\\2-SEMESTER\\IIS\\vaje\\data\\raw\\og_dataset.csv\n"
     ]
    }
   ],
   "source": [
    "#Iterate through every file and read it\n",
    "\n",
    "for filename in os.listdir(RAW_DATA_DIR):\n",
    "    if filename.endswith('.csv') and not  \"processed\" in filename:\n",
    "        file_path = os.path.join(RAW_DATA_DIR,filename)\n",
    "        print(f\"Going to processs file: {filename}\")\n",
    "        process_file(file_path)\n",
    "    "
   ]
  },
  {
   "cell_type": "code",
   "execution_count": null,
   "id": "40be48d2-3cb1-408e-8b28-1112b5390cf3",
   "metadata": {},
   "outputs": [],
   "source": []
  }
 ],
 "metadata": {
  "kernelspec": {
   "display_name": "Python 3 (ipykernel)",
   "language": "python",
   "name": "python3"
  },
  "language_info": {
   "codemirror_mode": {
    "name": "ipython",
    "version": 3
   },
   "file_extension": ".py",
   "mimetype": "text/x-python",
   "name": "python",
   "nbconvert_exporter": "python",
   "pygments_lexer": "ipython3",
   "version": "3.10.2"
  }
 },
 "nbformat": 4,
 "nbformat_minor": 5
}
